{
 "cells": [
  {
   "cell_type": "markdown",
   "metadata": {},
   "source": [
    "# Доверительные интервалы на основе bootstrap"
   ]
  },
  {
   "cell_type": "code",
   "execution_count": 1,
   "metadata": {
    "collapsed": false
   },
   "outputs": [],
   "source": [
    "import numpy as np\n",
    "import pandas as pd"
   ]
  },
  {
   "cell_type": "code",
   "execution_count": 2,
   "metadata": {
    "collapsed": false
   },
   "outputs": [
    {
     "name": "stdout",
     "output_type": "stream",
     "text": [
      "Populating the interactive namespace from numpy and matplotlib\n"
     ]
    }
   ],
   "source": [
    "%pylab inline"
   ]
  },
  {
   "cell_type": "markdown",
   "metadata": {},
   "source": [
    "## Загрузка данных"
   ]
  },
  {
   "cell_type": "markdown",
   "metadata": {},
   "source": [
    "### Время ремонта телекоммуникаций"
   ]
  },
  {
   "cell_type": "markdown",
   "metadata": {},
   "source": [
    "Verizon — основная региональная телекоммуникационная компания (Incumbent Local Exchange Carrier, ILEC) в западной \n",
    "части США. В связи с этим данная компания обязана предоставлять сервис ремонта телекоммуникационного оборудования \n",
    "не только для своих клиентов, но и для клиентов других локальных телекоммуникационых компаний (Competing Local Exchange Carriers, CLEC). При этом в случаях, когда время ремонта оборудования для клиентов других компаний существенно выше, чем для собственных, Verizon может быть оштрафована. "
   ]
  },
  {
   "cell_type": "code",
   "execution_count": 3,
   "metadata": {
    "collapsed": false
   },
   "outputs": [
    {
     "data": {
      "text/plain": [
       "(1687, 2)"
      ]
     },
     "execution_count": 3,
     "metadata": {},
     "output_type": "execute_result"
    }
   ],
   "source": [
    "data = pd.read_csv('verizon.txt', sep='\\t')\n",
    "data.shape"
   ]
  },
  {
   "cell_type": "code",
   "execution_count": 4,
   "metadata": {
    "collapsed": false
   },
   "outputs": [
    {
     "data": {
      "text/html": [
       "<div>\n",
       "<style>\n",
       "    .dataframe thead tr:only-child th {\n",
       "        text-align: right;\n",
       "    }\n",
       "\n",
       "    .dataframe thead th {\n",
       "        text-align: left;\n",
       "    }\n",
       "\n",
       "    .dataframe tbody tr th {\n",
       "        vertical-align: top;\n",
       "    }\n",
       "</style>\n",
       "<table border=\"1\" class=\"dataframe\">\n",
       "  <thead>\n",
       "    <tr style=\"text-align: right;\">\n",
       "      <th></th>\n",
       "      <th>Time</th>\n",
       "      <th>Group</th>\n",
       "    </tr>\n",
       "  </thead>\n",
       "  <tbody>\n",
       "    <tr>\n",
       "      <th>0</th>\n",
       "      <td>17.50</td>\n",
       "      <td>ILEC</td>\n",
       "    </tr>\n",
       "    <tr>\n",
       "      <th>1</th>\n",
       "      <td>2.40</td>\n",
       "      <td>ILEC</td>\n",
       "    </tr>\n",
       "    <tr>\n",
       "      <th>2</th>\n",
       "      <td>0.00</td>\n",
       "      <td>ILEC</td>\n",
       "    </tr>\n",
       "    <tr>\n",
       "      <th>3</th>\n",
       "      <td>0.65</td>\n",
       "      <td>ILEC</td>\n",
       "    </tr>\n",
       "    <tr>\n",
       "      <th>4</th>\n",
       "      <td>22.23</td>\n",
       "      <td>ILEC</td>\n",
       "    </tr>\n",
       "  </tbody>\n",
       "</table>\n",
       "</div>"
      ],
      "text/plain": [
       "    Time Group\n",
       "0  17.50  ILEC\n",
       "1   2.40  ILEC\n",
       "2   0.00  ILEC\n",
       "3   0.65  ILEC\n",
       "4  22.23  ILEC"
      ]
     },
     "execution_count": 4,
     "metadata": {},
     "output_type": "execute_result"
    }
   ],
   "source": [
    "data.head()"
   ]
  },
  {
   "cell_type": "code",
   "execution_count": 5,
   "metadata": {
    "collapsed": false
   },
   "outputs": [
    {
     "data": {
      "text/plain": [
       "ILEC    1664\n",
       "CLEC      23\n",
       "Name: Group, dtype: int64"
      ]
     },
     "execution_count": 5,
     "metadata": {},
     "output_type": "execute_result"
    }
   ],
   "source": [
    "data.Group.value_counts()"
   ]
  },
  {
   "cell_type": "code",
   "execution_count": 6,
   "metadata": {
    "collapsed": false
   },
   "outputs": [
    {
     "data": {
      "image/png": "[encoded data removed]",
      "text/plain": [
       "<matplotlib.figure.Figure at 0x7fd204433748>"
      ]
     },
     "metadata": {},
     "output_type": "display_data"
    }
   ],
   "source": [
    "pylab.figure(figsize(12, 5))\n",
    "pylab.subplot(1,2,1)\n",
    "pylab.hist(data[data.Group == 'ILEC'].Time, bins = 20, color = 'b', range = (0, 100), label = 'ILEC')\n",
    "pylab.legend()\n",
    "\n",
    "pylab.subplot(1,2,2)\n",
    "pylab.hist(data[data.Group == 'CLEC'].Time, bins = 20, color = 'r', range = (0, 100), label = 'CLEC')\n",
    "pylab.legend()\n",
    "\n",
    "pylab.show()"
   ]
  },
  {
   "cell_type": "markdown",
   "metadata": {},
   "source": [
    "## Bootstrap"
   ]
  },
  {
   "cell_type": "code",
   "execution_count": 3,
   "metadata": {
    "collapsed": true
   },
   "outputs": [],
   "source": [
    "def get_bootstrap_samples(data, n_samples):\n",
    "    indices = np.random.randint(0, len(data), (n_samples, len(data)))\n",
    "    samples = data[indices]\n",
    "    return samples"
   ]
  },
  {
   "cell_type": "code",
   "execution_count": 4,
   "metadata": {
    "collapsed": false
   },
   "outputs": [],
   "source": [
    "def stat_intervals(stat, alpha):\n",
    "    boundaries = np.percentile(stat, [100 * alpha / 2., 100 * (1 - alpha / 2.)])\n",
    "    return boundaries"
   ]
  },
  {
   "cell_type": "markdown",
   "metadata": {},
   "source": [
    "### Интервальная оценка медианы"
   ]
  },
  {
   "cell_type": "code",
   "execution_count": 15,
   "metadata": {
    "collapsed": true
   },
   "outputs": [],
   "source": [
    "ilec_time = data[data.Group == 'ILEC'].Time.values\n",
    "clec_time = data[data.Group == 'CLEC'].Time.values"
   ]
  },
  {
   "cell_type": "code",
   "execution_count": 21,
   "metadata": {
    "collapsed": false
   },
   "outputs": [
    {
     "name": "stdout",
     "output_type": "stream",
     "text": [
      "95% confidence interval for the ILEC median repair time: [ 3.18     3.82525]\n",
      "95% confidence interval for the CLEC median repair time: [  5.79125  20.     ]\n"
     ]
    }
   ],
   "source": [
    "np.random.seed(0)\n",
    "\n",
    "ilec_median_scores = list(map(np.median, get_bootstrap_samples(ilec_time, 1000)))\n",
    "clec_median_scores = list(map(np.median, get_bootstrap_samples(clec_time, 1000)))\n",
    "\n",
    "print (\"95% confidence interval for the ILEC median repair time:\",  stat_intervals(ilec_median_scores, 0.05))\n",
    "print (\"95% confidence interval for the CLEC median repair time:\",  stat_intervals(clec_median_scores, 0.05))"
   ]
  },
  {
   "cell_type": "markdown",
   "metadata": {},
   "source": [
    "### Точечная оценка разности медиан"
   ]
  },
  {
   "cell_type": "code",
   "execution_count": 22,
   "metadata": {
    "collapsed": false
   },
   "outputs": [
    {
     "name": "stdout",
     "output_type": "stream",
     "text": [
      "difference between medians: 10.74\n"
     ]
    }
   ],
   "source": [
    "print (\"difference between medians:\", np.median(clec_time) - np.median(ilec_time))"
   ]
  },
  {
   "cell_type": "markdown",
   "metadata": {},
   "source": [
    "### Интервальная оценка разности медиан"
   ]
  },
  {
   "cell_type": "code",
   "execution_count": 23,
   "metadata": {
    "collapsed": false
   },
   "outputs": [],
   "source": [
    "delta_median_scores = list(map(lambda x: x[1] - x[0], zip(ilec_median_scores, clec_median_scores)))"
   ]
  },
  {
   "cell_type": "code",
   "execution_count": 24,
   "metadata": {
    "collapsed": false
   },
   "outputs": [
    {
     "name": "stdout",
     "output_type": "stream",
     "text": [
      "95% confidence interval for the difference between medians [  2.04975  16.63   ]\n"
     ]
    }
   ],
   "source": [
    "print (\"95% confidence interval for the difference between medians\",  stat_intervals(delta_median_scores, 0.05))"
   ]
  },
  {
   "cell_type": "markdown",
   "metadata": {},
   "source": [
    "# quez "
   ]
  },
  {
   "cell_type": "code",
   "execution_count": 6,
   "metadata": {},
   "outputs": [],
   "source": [
    "aspirin = np.full(104, 1)\n",
    "aspirin = np.append(aspirin, np.full(10933, 0))\n",
    "\n",
    "placebo = np.full(189, 1)\n",
    "placebo = np.append(placebo, np.full(10845, 0))"
   ]
  },
  {
   "cell_type": "code",
   "execution_count": 8,
   "metadata": {},
   "outputs": [],
   "source": [
    "def chances(data):\n",
    "    num_1 = len(data[data == 1])\n",
    "    num_all = len(data)\n",
    "    \n",
    "    chances = (num_1/num_all)/(1-(num_1/num_all))\n",
    "    return chances"
   ]
  },
  {
   "cell_type": "code",
   "execution_count": 16,
   "metadata": {},
   "outputs": [
    {
     "name": "stdout",
     "output_type": "stream",
     "text": [
      "95% confidence interval for chances relation: [ 1.44419465  2.34321168]\n"
     ]
    }
   ],
   "source": [
    "np.random.seed(0)\n",
    "\n",
    "aspirin_chances_scores = np.array(list(map(chances, get_bootstrap_samples(aspirin, 1000))))\n",
    "placebo_chances_scores = np.array(list(map(chances, get_bootstrap_samples(placebo, 1000))))\n",
    "chances_rel = placebo_chances_scores / aspirin_chances_scores\n",
    "\n",
    "print (\"95% confidence interval for chances relation:\",  stat_intervals(chances_rel, 0.05))"
   ]
  },
  {
   "cell_type": "code",
   "execution_count": 15,
   "metadata": {},
   "outputs": [
    {
     "data": {
      "text/plain": [
       "array([ 0.60239375,  0.56624177,  0.50877078,  0.47514996,  0.59035021,\n",
       "        0.62207075,  0.5569038 ,  0.484647  ,  0.64667923,  0.53388077,\n",
       "        0.67311605,  0.60268886,  0.71560746,  0.48524181,  0.44629001,\n",
       "        0.59926667,  0.51048759,  0.57497817,  0.60832497,  0.64761172,\n",
       "        0.61238892,  0.57181808,  0.56784741,  0.51684486,  0.49024006,\n",
       "        0.54188543,  0.60869488,  0.5554821 ,  0.61150376,  0.62593613,\n",
       "        0.57029727,  0.46450413,  0.61380513,  0.53236458,  0.51174186,\n",
       "        0.61181819,  0.55831155,  0.49022772,  0.55191128,  0.67242065,\n",
       "        0.48558544,  0.62148587,  0.56735328,  0.49818959,  0.52913951,\n",
       "        0.54215125,  0.55817762,  0.61015945,  0.65078929,  0.59355983,\n",
       "        0.6147065 ,  0.482914  ,  0.49030107,  0.47356915,  0.48506465,\n",
       "        0.66752818,  0.63737829,  0.51827075,  0.37922608,  0.58115948,\n",
       "        0.50914898,  0.71005135,  0.51337719,  0.61677094,  0.48181679,\n",
       "        0.52231937,  0.63878045,  0.51877006,  0.67475988,  0.43588514,\n",
       "        0.51312625,  0.44581051,  0.55618565,  0.54470079,  0.53301503,\n",
       "        0.67632533,  0.71693909,  0.50528944,  0.53177294,  0.51586698,\n",
       "        0.46304355,  0.54492043,  0.60622172,  0.46769992,  0.48350087,\n",
       "        0.5033505 ,  0.52216652,  0.53619131,  0.48493531,  0.5988674 ,\n",
       "        0.72075318,  0.60299455,  0.48778034,  0.63573057,  0.55447068,\n",
       "        0.63780144,  0.59473597,  0.54215125,  0.52619098,  0.57452375,\n",
       "        0.5789016 ,  0.5988674 ,  0.56173485,  0.63489964,  0.50898529,\n",
       "        0.44865582,  0.52761399,  0.54184307,  0.57595888,  0.58271372,\n",
       "        0.55493848,  0.56027062,  0.52395431,  0.51559492,  0.50203168,\n",
       "        0.69183483,  0.45375973,  0.50272915,  0.47448431,  0.63275608,\n",
       "        0.59035021,  0.51768465,  0.52124684,  0.53864124,  0.49478309,\n",
       "        0.62010737,  0.64216333,  0.42511625,  0.43481943,  0.70339899,\n",
       "        0.54700484,  0.61069298,  0.47154512,  0.4557733 ,  0.59748959,\n",
       "        0.51414571,  0.56751146,  0.56889382,  0.61677245,  0.49024006,\n",
       "        0.55643408,  0.55618565,  0.53070084,  0.66343604,  0.56556523,\n",
       "        0.51877006,  0.67924168,  0.58723623,  0.54470079,  0.65907264,\n",
       "        0.49275994,  0.58412383,  0.46919207,  0.61822273,  0.62375503,\n",
       "        0.67117863,  0.63290673,  0.55643408,  0.50787545,  0.57659605,\n",
       "        0.48500115,  0.51657476,  0.59338202,  0.45074337,  0.53237456,\n",
       "        0.52089625,  0.49293544,  0.53035885,  0.69346919,  0.46673832,\n",
       "        0.48544932,  0.52216652,  0.5608392 ,  0.59748959,  0.50840441,\n",
       "        0.49804255,  0.62882705,  0.45766521,  0.49538349,  0.47010542,\n",
       "        0.50994404,  0.50914898,  0.6590587 ,  0.61678677,  0.56027062,\n",
       "        0.60394972,  0.59140074,  0.46967735,  0.51765732,  0.5191929 ,\n",
       "        0.58929101,  0.52771054,  0.42694147,  0.43325197,  0.6046505 ,\n",
       "        0.54962602,  0.56566353,  0.63706358,  0.51196328,  0.56719499,\n",
       "        0.54132326,  0.44284445,  0.58670061,  0.6153511 ,  0.48562738,\n",
       "        0.51268036,  0.59026329,  0.60467329,  0.5194268 ,  0.54928525,\n",
       "        0.52673182,  0.63179348,  0.47234733,  0.49818959,  0.59465436,\n",
       "        0.50078363,  0.65498149,  0.48529665,  0.64505036,  0.50877078,\n",
       "        0.60429313,  0.46149958,  0.64905128,  0.40583821,  0.72232185,\n",
       "        0.56766136,  0.43214393,  0.49301135,  0.47253535,  0.6007245 ,\n",
       "        0.51089228,  0.53668067,  0.4875329 ,  0.56784741,  0.5075356 ,\n",
       "        0.60119389,  0.46338489,  0.66096836,  0.56735328,  0.54372309,\n",
       "        0.6147065 ,  0.54360842,  0.58816304,  0.53477888,  0.60614971,\n",
       "        0.48008703,  0.43646124,  0.54588443,  0.51089228,  0.50974017,\n",
       "        0.5557503 ,  0.74718484,  0.66108146,  0.59366359,  0.58636364,\n",
       "        0.61024934,  0.47923289,  0.62070624,  0.53901466,  0.54762283,\n",
       "        0.55201021,  0.53301503,  0.70834129,  0.48540034,  0.50914898,\n",
       "        0.59807692,  0.52295644,  0.47215446,  0.52500726,  0.57841309,\n",
       "        0.66904784,  0.61181819,  0.74892571,  0.49024006,  0.59338202,\n",
       "        0.54002029,  0.6007245 ,  0.45663296,  0.63816638,  0.44529535,\n",
       "        0.59968669,  0.6221044 ,  0.59663348,  0.60702846,  0.51152417,\n",
       "        0.52425675,  0.57546452,  0.64817138,  0.47482592,  0.61075032,\n",
       "        0.58833302,  0.5420437 ,  0.54940788,  0.54878944,  0.55533547,\n",
       "        0.65907264,  0.63087975,  0.57782287,  0.52428428,  0.56674638,\n",
       "        0.45187343,  0.67721095,  0.52353317,  0.45081371,  0.51586698,\n",
       "        0.64244278,  0.44951925,  0.50404808,  0.57096227,  0.43588514,\n",
       "        0.46229083,  0.49804255,  0.48780917,  0.53030101,  0.4601974 ,\n",
       "        0.5891505 ,  0.5857867 ,  0.56400017,  0.39979348,  0.54583546,\n",
       "        0.62972178,  0.60094064,  0.44013761,  0.64850516,  0.50858617,\n",
       "        0.61119272,  0.56404359,  0.53237456,  0.58316368,  0.59038139,\n",
       "        0.54763953,  0.5006827 ,  0.50604638,  0.6174877 ,  0.51028992,\n",
       "        0.6707751 ,  0.51827075,  0.57282786,  0.46792859,  0.6036191 ,\n",
       "        0.48338489,  0.41636975,  0.50877078,  0.55411694,  0.54518034,\n",
       "        0.47530573,  0.38448905,  0.62619489,  0.60024719,  0.48259354,\n",
       "        0.53668067,  0.56073162,  0.48493531,  0.52495357,  0.61075032,\n",
       "        0.45923611,  0.54237274,  0.57575586,  0.47909589,  0.59779109,\n",
       "        0.61542457,  0.66532365,  0.52361582,  0.5482429 ,  0.45302769,\n",
       "        0.6109878 ,  0.52836315,  0.47834618,  0.49026102,  0.62593613,\n",
       "        0.58047336,  0.62989355,  0.65708598,  0.58566061,  0.51455547,\n",
       "        0.53770784,  0.5646157 ,  0.60048227,  0.69356613,  0.57591833,\n",
       "        0.63639878,  0.4978977 ,  0.52913951,  0.55802223,  0.58474065,\n",
       "        0.63179348,  0.68781814,  0.57270117,  0.61613581,  0.48087237,\n",
       "        0.54763953,  0.54701516,  0.52840275,  0.69931669,  0.55032674,\n",
       "        0.59143678,  0.52636343,  0.44241604,  0.64607143,  0.50636494,\n",
       "        0.54291257,  0.52673182,  0.48298793,  0.54810982,  0.45043849,\n",
       "        0.482914  ,  0.50272915,  0.53152237,  0.50672649,  0.47560536,\n",
       "        0.53886206,  0.60997027,  0.48275886,  0.50787545,  0.63742141,\n",
       "        0.58244085,  0.49286304,  0.60976809,  0.57360285,  0.44750242,\n",
       "        0.55955959,  0.46210488,  0.54531893,  0.52537141,  0.54215125,\n",
       "        0.44697135,  0.50620446,  0.48529665,  0.59256371,  0.52953842,\n",
       "        0.70924628,  0.65289825,  0.6436063 ,  0.56803549,  0.48783652,\n",
       "        0.54346291,  0.50174896,  0.60562136,  0.45330499,  0.62087988,\n",
       "        0.41333186,  0.45878712,  0.61602685,  0.60330022,  0.62776486,\n",
       "        0.4642613 ,  0.65521922,  0.68853161,  0.69864328,  0.43631638,\n",
       "        0.71263126,  0.43849346,  0.60487078,  0.56249581,  0.52653777,\n",
       "        0.60183198,  0.57095299,  0.59734233,  0.49726969,  0.52913951,\n",
       "        0.65514497,  0.60024719,  0.45668727,  0.49286304,  0.46565401,\n",
       "        0.44848155,  0.53344398,  0.58047336,  0.4389756 ,  0.54039969,\n",
       "        0.54887579,  0.47499007,  0.54402407,  0.54386484,  0.53417905,\n",
       "        0.54587049,  0.59489389,  0.5795105 ,  0.5869956 ,  0.48241739,\n",
       "        0.65703946,  0.66300467,  0.62729749,  0.52874783,  0.46778117,\n",
       "        0.46628682,  0.52564614,  0.51765732,  0.51935585,  0.558569  ,\n",
       "        0.61875677,  0.59790655,  0.39256152,  0.57584899,  0.58540671,\n",
       "        0.57066648,  0.63613364,  0.54869204,  0.54577619,  0.67058051,\n",
       "        0.70383565,  0.5430773 ,  0.46737808,  0.39446231,  0.47088613,\n",
       "        0.59691215,  0.54106497,  0.47430657,  0.4770388 ,  0.55280478,\n",
       "        0.66306636,  0.77715863,  0.61798404,  0.43325197,  0.53715815,\n",
       "        0.62025172,  0.48524181,  0.57497763,  0.42882563,  0.56977061,\n",
       "        0.49288203,  0.59344396,  0.47031164,  0.63725178,  0.65909674,\n",
       "        0.60614971,  0.53194451,  0.59599341,  0.47289737,  0.51999989,\n",
       "        0.6707751 ,  0.40881429,  0.54587049,  0.57499576,  0.62937088,\n",
       "        0.58115948,  0.52874783,  0.58076909,  0.54700536,  0.62465975,\n",
       "        0.63780144,  0.55133949,  0.45034442,  0.53491338,  0.62593613,\n",
       "        0.48744593,  0.50225884,  0.49811579,  0.5260016 ,  0.5048597 ,\n",
       "        0.47986054,  0.50109351,  0.48764923,  0.51290153,  0.55518004,\n",
       "        0.39957852,  0.56400017,  0.63363547,  0.54858502,  0.50787545,\n",
       "        0.61678691,  0.56326492,  0.58264345,  0.57148894,  0.5040148 ,\n",
       "        0.52089625,  0.65324802,  0.70506526,  0.38292579,  0.42530451,\n",
       "        0.58371759,  0.46989404,  0.63816638,  0.59143678,  0.42676675,\n",
       "        0.53035885,  0.56469818,  0.57360285,  0.54928525,  0.46401292,\n",
       "        0.53477888,  0.54021391,  0.57982601,  0.4557733 ,  0.42720603,\n",
       "        0.46053501,  0.53864124,  0.71560746,  0.62720049,  0.53432565,\n",
       "        0.46716964,  0.61602685,  0.51312625,  0.49295199,  0.57148894,\n",
       "        0.52564614,  0.48008703,  0.59926667,  0.52059276,  0.53432565,\n",
       "        0.58076909,  0.55003877,  0.54106497,  0.6436063 ,  0.53465265,\n",
       "        0.56404359,  0.54271085,  0.62087988,  0.5075356 ,  0.50361068,\n",
       "        0.57216061,  0.56703659,  0.64905128,  0.66933161,  0.48241739,\n",
       "        0.57066648,  0.51553952,  0.6110042 ,  0.49849083,  0.49254472,\n",
       "        0.55377659,  0.57454031,  0.5420437 ,  0.52059276,  0.55411694,\n",
       "        0.50738286,  0.50840441,  0.61749394,  0.47499007,  0.54577619,\n",
       "        0.4978977 ,  0.5220088 ,  0.65909128,  0.51152417,  0.56173485,\n",
       "        0.55619895,  0.58806153,  0.638854  ,  0.59757472,  0.47212105,\n",
       "        0.58553969,  0.5482429 ,  0.55931004,  0.61547731,  0.56846001,\n",
       "        0.43944795,  0.60948544,  0.58064732,  0.52994479,  0.57095299,\n",
       "        0.53575647,  0.4427514 ,  0.46769992,  0.56477487,  0.5891505 ,\n",
       "        0.57740846,  0.49566012,  0.48524181,  0.52990817,  0.5569038 ,\n",
       "        0.6293326 ,  0.57546452,  0.48524181,  0.48558544,  0.43292932,\n",
       "        0.58939449,  0.59457116,  0.58453422,  0.56867476,  0.53217973,\n",
       "        0.44806254,  0.42668415,  0.53417905,  0.61608208,  0.59038139,\n",
       "        0.49782606,  0.60614971,  0.49579832,  0.53465265,  0.51711977,\n",
       "        0.47823304,  0.55003877,  0.60832497,  0.49291825,  0.49029681,\n",
       "        0.65535398,  0.5698377 ,  0.49028374,  0.49029681,  0.4127867 ,\n",
       "        0.47688694,  0.48030073,  0.56246914,  0.56245108,  0.45081371,\n",
       "        0.59691215,  0.47133121,  0.57270117,  0.60172458,  0.62010737,\n",
       "        0.57002964,  0.45690159,  0.37324619,  0.57777529,  0.60145498,\n",
       "        0.55216755,  0.62937088,  0.50971451,  0.47499007,  0.46268211,\n",
       "        0.54132326,  0.5464195 ,  0.52059237,  0.52170332,  0.52216652,\n",
       "        0.63780144,  0.55931004,  0.54818303,  0.5405376 ,  0.49288203,\n",
       "        0.53194451,  0.50130641,  0.51268036,  0.59677209,  0.4600191 ,\n",
       "        0.47974225,  0.40918407,  0.51877006,  0.60575942,  0.59141776,\n",
       "        0.47811434,  0.4951989 ,  0.61419388,  0.62989355,  0.44680422,\n",
       "        0.40064093,  0.57982601,  0.66646061,  0.55406563,  0.67361124,\n",
       "        0.53813735,  0.6181231 ,  0.50249123,  0.63613364,  0.52500726,\n",
       "        0.51630932,  0.53513585,  0.48730005,  0.48786242,  0.57499576,\n",
       "        0.51553952,  0.55817441,  0.51636518,  0.66483673,  0.56867476,\n",
       "        0.4978977 ,  0.55377596,  0.50374348,  0.62989355,  0.57066648,\n",
       "        0.44319879,  0.63407752,  0.63222535,  0.62882705,  0.60048227,\n",
       "        0.56846001,  0.53619131,  0.45375973,  0.56977061,  0.54587049,\n",
       "        0.54887579,  0.48135278,  0.53442902,  0.47997543,  0.52500726,\n",
       "        0.58906434,  0.56951917,  0.48259354,  0.43424792,  0.61238892,\n",
       "        0.61479592,  0.69589794,  0.46792859,  0.67058051,  0.6404908 ,\n",
       "        0.54328192,  0.53371473,  0.62315826,  0.71628332,  0.48069274,\n",
       "        0.52836315,  0.55872683,  0.45375973,  0.55280478,  0.51241776,\n",
       "        0.75290363,  0.4793659 ,  0.52231937,  0.57454976,  0.54106497,\n",
       "        0.50472017,  0.46296072,  0.54081302,  0.47031164,  0.57856725,\n",
       "        0.74690679,  0.59906466,  0.52673182,  0.60687553,  0.4664692 ,\n",
       "        0.66474289,  0.54156805,  0.58015471,  0.70072385,  0.46323292,\n",
       "        0.57251819,  0.5194268 ,  0.61817849,  0.49811579,  0.46697968,\n",
       "        0.64244278,  0.60901982,  0.52584988,  0.50934275,  0.48524181,\n",
       "        0.52537141,  0.50953978,  0.55713149,  0.50214463,  0.51657476,\n",
       "        0.57065525,  0.49524506,  0.36685308,  0.69240077,  0.59898495,\n",
       "        0.52748916,  0.44036628,  0.50858617,  0.63673725,  0.53864124,\n",
       "        0.49818959,  0.64780667,  0.58323587,  0.5143373 ,  0.59489389,\n",
       "        0.50589062,  0.52395794,  0.53477888,  0.59123935,  0.64273458,\n",
       "        0.56496311,  0.35521693,  0.53619131,  0.55411694,  0.57591833,\n",
       "        0.62619489,  0.60655617,  0.53873933,  0.5482429 ,  0.65289825,\n",
       "        0.35703527,  0.5290924 ,  0.58129875,  0.64923604,  0.53668067,\n",
       "        0.5899692 ,  0.57126149,  0.56173485,  0.52730107,  0.54237274,\n",
       "        0.66281946,  0.53748622,  0.48730005,  0.53344398,  0.61970758,\n",
       "        0.62981682,  0.49811579,  0.54952193,  0.49796986,  0.52994479,\n",
       "        0.5191929 ,  0.54577619,  0.61335997,  0.56784741,  0.62471089,\n",
       "        0.65289825,  0.51532791,  0.54106497,  0.4926686 ,  0.48793188,\n",
       "        0.49029347,  0.4874904 ,  0.64273458,  0.51739055,  0.52249867,\n",
       "        0.57452375,  0.52124684,  0.45081371,  0.60655617,  0.54928525,\n",
       "        0.62720049,  0.51965665,  0.52564614,  0.50636494,  0.53967919,\n",
       "        0.52361582,  0.54701516,  0.54556895,  0.51877006,  0.49768426,\n",
       "        0.56325837,  0.51739055,  0.55314326,  0.54928525,  0.55032674,\n",
       "        0.58104369,  0.46149958,  0.63304298,  0.62070624,  0.5554821 ,\n",
       "        0.50361068,  0.52827538,  0.527107  ,  0.48422387,  0.57904029,\n",
       "        0.45906234,  0.48774998,  0.54792994,  0.62488479,  0.75633743,\n",
       "        0.428192  ,  0.59757472,  0.61743319,  0.46989404,  0.40444258,\n",
       "        0.61960029,  0.66300467,  0.42117246,  0.59663348,  0.53864124,\n",
       "        0.48518492,  0.42628574,  0.50858617,  0.42042093,  0.5420437 ,\n",
       "        0.51630932,  0.60048227,  0.6153511 ,  0.55733121,  0.48506465,\n",
       "        0.56017846,  0.54021391,  0.44534158,  0.50078363,  0.46836982,\n",
       "        0.52874783,  0.61817849,  0.58840314,  0.51068835,  0.49584437,\n",
       "        0.5218404 ,  0.56325837,  0.63049216,  0.46792859,  0.61075032,\n",
       "        0.51642694,  0.49029917,  0.56325837,  0.6110042 ,  0.59040522,\n",
       "        0.66275767,  0.61525395,  0.48500115,  0.60997027,  0.53513585,\n",
       "        0.61370946,  0.53613237,  0.52429892,  0.44909247,  0.51344012,\n",
       "        0.5795105 ,  0.46479895,  0.50704352,  0.638854  ,  0.51906038,\n",
       "        0.53177294,  0.52798527,  0.51048759,  0.61075032,  0.65379495,\n",
       "        0.46212045,  0.50322301,  0.63290673,  0.56719499,  0.55406563,\n",
       "        0.49761407,  0.56243477,  0.65720339,  0.58173145,  0.66658377])"
      ]
     },
     "execution_count": 15,
     "metadata": {},
     "output_type": "execute_result"
    }
   ],
   "source": [
    "aspirin_chances_scores / placebo_chances_scores"
   ]
  },
  {
   "cell_type": "code",
   "execution_count": null,
   "metadata": {},
   "outputs": [],
   "source": []
  }
 ],
 "metadata": {
  "kernelspec": {
   "display_name": "Python 3",
   "language": "python",
   "name": "python3"
  },
  "language_info": {
   "codemirror_mode": {
    "name": "ipython",
    "version": 3
   },
   "file_extension": ".py",
   "mimetype": "text/x-python",
   "name": "python",
   "nbconvert_exporter": "python",
   "pygments_lexer": "ipython3",
   "version": "3.6.3"
  }
 },
 "nbformat": 4,
 "nbformat_minor": 2
}
